{
 "cells": [
  {
   "cell_type": "markdown",
   "metadata": {},
   "source": [
    "# Self-Driving Car Engineer Nanodegree\n",
    "\n",
    "## Deep Learning\n",
    "\n",
    "## Project: Build a Traffic Sign Recognition Classifier\n",
    "\n",
    "In this notebook, a template is provided for you to implement your functionality in stages, which is required to successfully complete this project. If additional code is required that cannot be included in the notebook, be sure that the Python code is successfully imported and included in your submission if necessary. \n",
    "\n",
    "> **Note**: Once you have completed all of the code implementations, you need to finalize your work by exporting the iPython Notebook as an HTML document. Before exporting the notebook to html, all of the code cells need to have been run so that reviewers can see the final implementation and output. You can then export the notebook by using the menu above and navigating to  \\n\",\n",
    "    \"**File -> Download as -> HTML (.html)**. Include the finished document along with this notebook as your submission. \n",
    "\n",
    "In addition to implementing code, there is a writeup to complete. The writeup should be completed in a separate file, which can be either a markdown file or a pdf document. There is a [write up template](https://github.com/udacity/CarND-Traffic-Sign-Classifier-Project/blob/master/writeup_template.md) that can be used to guide the writing process. Completing the code template and writeup template will cover all of the [rubric points](https://review.udacity.com/#!/rubrics/481/view) for this project.\n",
    "\n",
    "The [rubric](https://review.udacity.com/#!/rubrics/481/view) contains \"Stand Out Suggestions\" for enhancing the project beyond the minimum requirements. The stand out suggestions are optional. If you decide to pursue the \"stand out suggestions\", you can include the code in this Ipython notebook and also discuss the results in the writeup file.\n",
    "\n",
    "\n",
    ">**Note:** Code and Markdown cells can be executed using the **Shift + Enter** keyboard shortcut. In addition, Markdown cells can be edited by typically double-clicking the cell to enter edit mode."
   ]
  },
  {
   "cell_type": "markdown",
   "metadata": {},
   "source": [
    "---\n",
    "## Before Step 0: imports and some functions definitions"
   ]
  },
  {
   "cell_type": "code",
   "execution_count": 1,
   "metadata": {},
   "outputs": [],
   "source": [
    "import os\n",
    "os.environ[\"CUDA_VISIBLE_DEVICES\"] = '0' #GPU\n",
    "os.environ['TF_CPP_MIN_LOG_LEVEL'] = '2'\n",
    "\n",
    "import tensorflow as tf\n",
    "import pickle\n",
    "from common import *\n",
    "import numpy as np\n",
    "import matplotlib.pyplot as plt\n",
    "from sklearn.utils import shuffle\n",
    "from sklearn.preprocessing import LabelBinarizer\n",
    "from sklearn.utils import resample\n",
    "from scipy.ndimage import rotate\n",
    "from random import randint\n",
    "from skimage.util import random_noise\n",
    "from scipy import ndimage, ndarray\n",
    "import cv2\n",
    "import random\n",
    "import numpy as np\n",
    "import matplotlib.pyplot as plt\n",
    "from common import sess as com_sess\n",
    "from common import x as com_x\n",
    "\n",
    "#print(cv2.getBuildInformation())\n",
    "\n",
    "X_train = None\n",
    "y_train = None\n",
    "X_valid = None\n",
    "y_valid = None\n",
    "X_test = None\n",
    "y_test = None\n",
    "EPOCHS = 50\n",
    "BATCH_SIZE = 32\n",
    "learning_rate = 0.001\n",
    "feed_forward = LeNet  # feed_forward_#LeNet_1#LeNet\n",
    "fc_keep_prob_value = .5\n",
    "conv_keep_prob_value = .75\n",
    "saver = None\n",
    "conv1_depth_val = 6\n",
    "conv2_depth_val = 16\n",
    "conv_filter_size = 5\n",
    "available_training_data_set = 1\n",
    "image_depth = 1\n",
    "acc_list = [0]\n",
    "train_acc_list = [0]\n",
    "loss_list = [1]\n",
    "CONTINUE = False\n",
    "TRAIN = True\n",
    "TEST = True\n",
    "\n",
    "Data_Augmentation_EqualizeHist = True\n",
    "Data_Augmentation_Noise = False\n",
    "Data_Augmentation_Blur = False\n",
    "Data_Augmentation_Rotate = False\n",
    "DISPLAY_DATA_SET_HISTOGRAM = False\n",
    "Evaluate_NW = True\n",
    "clipLimit = 50\n",
    "\n",
    "\n",
    "def evaluate(X_data, y_data):\n",
    "    global accuracy_operation, x, y, conv_keep_prob, fc_keep_prob\n",
    "    num_examples = int(len(X_data)/BATCH_SIZE)*BATCH_SIZE\n",
    "    total_accuracy = 0\n",
    "    sess = tf.get_default_session()\n",
    "    for offset in range(0, num_examples, BATCH_SIZE):\n",
    "        batch_x, batch_y = X_data[offset:offset + BATCH_SIZE], y_data[offset:offset + BATCH_SIZE]\n",
    "        accuracy = sess.run(accuracy_operation , feed_dict={x: batch_x, y: batch_y, conv_keep_prob: 1, fc_keep_prob: 1})\n",
    "        total_accuracy += (accuracy * len(batch_x))\n",
    "    return total_accuracy / num_examples\n",
    "\n",
    "\n",
    "def save_variables(file_name, data_list):\n",
    "    global X_train, y_train, X_valid, y_valid, X_test, y_test, EPOCHS, BATCH_SIZE, learning_rate, feed_forward,\\\n",
    "        fc_keep_prob_value, conv_keep_prob_value, saver, CONTINUE, conv1_depth_val, conv2_depth_val, conv_filter_size, \\\n",
    "        image_depth, acc_list, train_acc_list, loss_list\n",
    "\n",
    "    data_dic = OrderedDict()\n",
    "    for var in data_list:\n",
    "        data_dic[var] = str(eval(var))\n",
    "    write_json_file(data_dic,  file_name)\n",
    "\n",
    "def add_images(X_new):\n",
    "    global X_train, y_train, available_training_data_set\n",
    "    X_train = np.concatenate((X_train, X_new), axis=0)\n",
    "    y_train = np.concatenate((y_train, y_train), axis=0)\n",
    "    available_training_data_set += 1\n",
    "\n",
    "\n",
    "\n",
    "\n",
    "\n",
    "\n",
    "global accuracy_operation, x, y, conv_keep_prob, fc_keep_prob\n"
   ]
  },
  {
   "cell_type": "markdown",
   "metadata": {},
   "source": [
    "---\n",
    "## Step 0: Load The Data"
   ]
  },
  {
   "cell_type": "code",
   "execution_count": 2,
   "metadata": {},
   "outputs": [],
   "source": [
    "# Load pickled data\n",
    "training_file = \"./traffic_signs_data/train.p\"\n",
    "validation_file = \"./traffic_signs_data/valid.p\"\n",
    "testing_file = \"./traffic_signs_data/test.p\"\n",
    "\n",
    "with open(training_file, mode='rb') as f:\n",
    "    train = pickle.load(f)\n",
    "with open(validation_file, mode='rb') as f:\n",
    "    valid = pickle.load(f)\n",
    "with open(testing_file, mode='rb') as f:\n",
    "    test = pickle.load(f)\n",
    "\n",
    "X_train, y_train = train['features'], train['labels']\n",
    "X_valid, y_valid = valid['features'], valid['labels']\n",
    "X_test, y_test = test['features'], test['labels']"
   ]
  },
  {
   "cell_type": "markdown",
   "metadata": {},
   "source": [
    "---\n",
    "\n",
    "## Step 1: Dataset Summary & Exploration\n",
    "\n",
    "The pickled data is a dictionary with 4 key/value pairs:\n",
    "\n",
    "- `'features'` is a 4D array containing raw pixel data of the traffic sign images, (num examples, width, height, channels).\n",
    "- `'labels'` is a 1D array containing the label/class id of the traffic sign. The file `signnames.csv` contains id -> name mappings for each id.\n",
    "- `'sizes'` is a list containing tuples, (width, height) representing the original width and height the image.\n",
    "- `'coords'` is a list containing tuples, (x1, y1, x2, y2) representing coordinates of a bounding box around the sign in the image. **THESE COORDINATES ASSUME THE ORIGINAL IMAGE. THE PICKLED DATA CONTAINS RESIZED VERSIONS (32 by 32) OF THESE IMAGES**\n",
    "\n",
    "Complete the basic data summary below. Use python, numpy and/or pandas methods to calculate the data summary rather than hard coding the results. For example, the [pandas shape method](http://pandas.pydata.org/pandas-docs/stable/generated/pandas.DataFrame.shape.html) might be useful for calculating some of the summary results. "
   ]
  },
  {
   "cell_type": "markdown",
   "metadata": {},
   "source": [
    "### Provide a Basic Summary of the Data Set Using Python, Numpy and/or Pandas"
   ]
  },
  {
   "cell_type": "code",
   "execution_count": 3,
   "metadata": {},
   "outputs": [
    {
     "name": "stdout",
     "output_type": "stream",
     "text": [
      "Number of training examples = 34799\n",
      "Number of testing examples = 12630\n",
      "Image data shape = (32, 32, 3)\n",
      "Number of classes = 43\n"
     ]
    }
   ],
   "source": [
    "n_train = len(y_train)\n",
    "\n",
    "# TODO: Number of validation examples\n",
    "n_validation = len(y_valid)\n",
    "\n",
    "# TODO: Number of testing examples.\n",
    "n_test = len(y_test)\n",
    "\n",
    "# TODO: What's the shape of an traffic sign image?\n",
    "image_shape = X_train[0].shape\n",
    "\n",
    "# TODO: How many unique classes/labels there are in the dataset.\n",
    "n_classes = max(np.concatenate((y_train ,y_valid , y_test),  axis=0)) + 1\n",
    "\n",
    "print(\"Number of training examples =\", n_train)\n",
    "print(\"Number of testing examples =\", n_test)\n",
    "print(\"Image data shape =\", image_shape)\n",
    "print(\"Number of classes =\", n_classes)\n"
   ]
  },
  {
   "cell_type": "markdown",
   "metadata": {},
   "source": [
    "### Include an exploratory visualization of the dataset"
   ]
  },
  {
   "cell_type": "markdown",
   "metadata": {},
   "source": [
    "Visualize the German Traffic Signs Dataset using the pickled file(s). This is open ended, suggestions include: plotting traffic sign images, plotting the count of each sign, etc. \n",
    "\n",
    "The [Matplotlib](http://matplotlib.org/) [examples](http://matplotlib.org/examples/index.html) and [gallery](http://matplotlib.org/gallery.html) pages are a great resource for doing visualizations in Python.\n",
    "\n",
    "**NOTE:** It's recommended you start with something simple first. If you wish to do more, come back to it after you've completed the rest of the sections. It can be interesting to look at the distribution of classes in the training, validation and test set. Is the distribution the same? Are there more examples of some classes than others?"
   ]
  },
  {
   "cell_type": "code",
   "execution_count": 4,
   "metadata": {},
   "outputs": [
    {
     "data": {
      "image/png": "[encoded data removed]",
      "text/plain": [
       "<Figure size 432x288 with 1 Axes>"
      ]
     },
     "metadata": {
      "needs_background": "light"
     },
     "output_type": "display_data"
    }
   ],
   "source": [
    "### Data exploration visualization code goes here.\n",
    "### Feel free to use as many code cells as needed.\n",
    "import matplotlib.pyplot as plt\n",
    "# Visualizations will be shown in the notebook.\n",
    "%matplotlib inline\n",
    "n, bins, patches = plt.hist(y_train, n_classes, facecolor='blue', alpha=0.5)\n",
    "plt.show()\n"
   ]
  },
  {
   "cell_type": "markdown",
   "metadata": {},
   "source": [
    "----\n",
    "\n",
    "## Step 2: Design and Test a Model Architecture\n",
    "\n",
    "Design and implement a deep learning model that learns to recognize traffic signs. Train and test your model on the [German Traffic Sign Dataset](http://benchmark.ini.rub.de/?section=gtsrb&subsection=dataset).\n",
    "\n",
    "The LeNet-5 implementation shown in the [classroom](https://classroom.udacity.com/nanodegrees/nd013/parts/fbf77062-5703-404e-b60c-95b78b2f3f9e/modules/6df7ae49-c61c-4bb2-a23e-6527e69209ec/lessons/601ae704-1035-4287-8b11-e2c2716217ad/concepts/d4aca031-508f-4e0b-b493-e7b706120f81) at the end of the CNN lesson is a solid starting point. You'll have to change the number of classes and possibly the preprocessing, but aside from that it's plug and play! \n",
    "\n",
    "With the LeNet-5 solution from the lecture, you should expect a validation set accuracy of about 0.89. To meet specifications, the validation set accuracy will need to be at least 0.93. It is possible to get an even higher accuracy, but 0.93 is the minimum for a successful project submission. \n",
    "\n",
    "There are various aspects to consider when thinking about this problem:\n",
    "\n",
    "- Neural network architecture (is the network over or underfitting?)\n",
    "- Play around preprocessing techniques (normalization, rgb to grayscale, etc)\n",
    "- Number of examples per label (some have more than others).\n",
    "- Generate fake data.\n",
    "\n",
    "Here is an example of a [published baseline model on this problem](http://yann.lecun.com/exdb/publis/pdf/sermanet-ijcnn-11.pdf). It's not required to be familiar with the approach used in the paper but, it's good practice to try to read papers like these."
   ]
  },
  {
   "cell_type": "markdown",
   "metadata": {},
   "source": [
    "### Pre-process the Data Set (normalization, grayscale, etc.)"
   ]
  },
  {
   "cell_type": "markdown",
   "metadata": {},
   "source": [
    "Minimally, the image data should be normalized so that the data has mean zero and equal variance. For image data, `(pixel - 128)/ 128` is a quick way to approximately normalize the data and can be used in this project. \n",
    "\n",
    "Other pre-processing steps are optional. You can try different techniques to see if it improves performance. \n",
    "\n",
    "Use the code cell (or multiple code cells, if necessary) to implement the first step of your project."
   ]
  },
  {
   "cell_type": "code",
   "execution_count": 5,
   "metadata": {},
   "outputs": [],
   "source": [
    "### Preprocess the data here. It is required to normalize the data. Other preprocessing steps could include \n",
    "### converting to grayscale, etc.\n",
    "### Feel free to use as many code cells as needed.\n",
    "\n",
    "random_index = random.randint(0, len(X_train))\n",
    "rgb_image = X_train[random_index].squeeze()\n",
    "\n",
    "#convert to grayscale\n",
    "if image_depth == 1:\n",
    "    X_train = np.sum(X_train/3, axis=3, keepdims=True)\n",
    "    X_valid = np.sum(X_valid/3, axis=3, keepdims=True)\n",
    "    X_test = np.sum(X_test/3, axis=3, keepdims=True)\n",
    "    #Histograms Equalization in OpenCV\n",
    "    if Data_Augmentation_EqualizeHist:\n",
    "        if True:\n",
    "            X_EqualizeHist = np.zeros_like(X_train)\n",
    "            for i in range(X_train.shape[0]):\n",
    "                X_EqualizeHist[i, :, :, 0] = cv2.equalizeHist(X_train[i].astype(np.uint8))\n",
    "            #add_images(X_EqualizeHist)\n",
    "            X_train = X_EqualizeHist\n",
    "\n",
    "            for i in range(X_valid.shape[0]):\n",
    "                X_valid[i, :, :, 0] = cv2.equalizeHist(X_valid[i].astype(np.uint8))\n",
    "            for i in range(X_test.shape[0]):\n",
    "                X_test[i, :, :, 0] = cv2.equalizeHist(X_test[i].astype(np.uint8))\n",
    "        else:\n",
    "            clahe = cv2.createCLAHE(tileGridSize=(2, 2), clipLimit=clipLimit)\n",
    "            X_EqualizeHist = np.zeros_like(X_train)\n",
    "            for i in range(X_train.shape[0]):\n",
    "                X_EqualizeHist[i, :, :, 0] = clahe.apply(X_train[i].astype(np.uint16))\n",
    "            #add_images(X_EqualizeHist)\n",
    "            X_train = X_EqualizeHist\n",
    "\n",
    "            for i in range(X_valid.shape[0]):\n",
    "                X_valid[i, :, :, 0] = clahe.apply(X_valid[i].astype(np.uint16))\n",
    "            for i in range(X_test.shape[0]):\n",
    "                X_test[i, :, :, 0] = clahe.apply(X_test[i].astype(np.uint16))\n"
   ]
  },
  {
   "cell_type": "markdown",
   "metadata": {},
   "source": [
    "### Data Augmentation"
   ]
  },
  {
   "cell_type": "code",
   "execution_count": 6,
   "metadata": {},
   "outputs": [],
   "source": [
    "x = tf.placeholder(tf.float32, (None, 32, 32, image_depth))\n",
    "y = tf.placeholder(tf.int32, (None, 43))\n",
    "\n",
    "\n",
    "\n",
    "\n",
    "if Data_Augmentation_Rotate:\n",
    "    print(\"Data Augmentation %s\" %\"Rotate\")\n",
    "    random_degree = random.uniform(-10, 10)\n",
    "    x_rotate = rotate(X_train, random_degree)\n",
    "    X_train = np.concatenate((X_train, x_rotate), axis=0)\n",
    "    y_train = np.concatenate((y_train, y_train), axis=0)\n",
    "    available_training_data_set += 1\n",
    "\n",
    "image_gray = X_train[random_index].squeeze()\n",
    "\n",
    "if Data_Augmentation_Noise:\n",
    "    print(\"Data Augmentation %s\" %\"Noise\")\n",
    "\n",
    "    x_noise = RandomNoise(X_train/255, mode='pepper')*255\n",
    "    #x_noise = x_noise / 2\n",
    "    image_noise = x_noise[random_index].squeeze()\n",
    "    #image_noise = RandomNoise(image_gray)\n",
    "    plt.figure(figsize=(1,3))\n",
    "    _ ,ax = plt.subplots(1, 3)\n",
    "    ax[0].imshow(rgb_image)\n",
    "    ax[0].set_title(\"rgb_image\", fontsize=20)\n",
    "    ax[1].imshow(image_gray, \"gray\")\n",
    "    ax[1].set_title(\"gray\", fontsize=20)\n",
    "    ax[2].imshow(image_noise, \"gray\")\n",
    "    ax[2].set_title(\"image_noise\", fontsize=20)\n",
    "    #print(image_noise)\n",
    "    #print(np.max(image_gray), np.max(image_noise))\n",
    "    plt.show()\n",
    "    X_train = np.concatenate((X_train, x_noise), axis=0)\n",
    "    y_train = np.concatenate((y_train, y_train), axis=0)\n",
    "    available_training_data_set += 1\n",
    "\n",
    "if Data_Augmentation_Blur:\n",
    "    print(\"Data Augmentation %s\" %\"Blur\")\n",
    "    x_blur = Blur(X_train, size=3)\n",
    "    image_blur = x_blur[random_index].squeeze()\n",
    "    plt.figure(figsize=(1,3))\n",
    "    _, ax = plt.subplots(1, 3)\n",
    "    ax[0].imshow(rgb_image)\n",
    "    ax[0].set_title(\"rgb_image\", fontsize=20)\n",
    "    ax[1].imshow(image_gray, \"gray\")\n",
    "    ax[1].set_title(\"gray\", fontsize=20)\n",
    "    ax[2].imshow(image_blur, \"gray\")\n",
    "    ax[2].set_title(\"image_blur\", fontsize=20)\n",
    "\n",
    "    plt.show()\n",
    "    X_train = np.concatenate((X_train, x_blur), axis=0)\n",
    "    y_train = np.concatenate((y_train, y_train), axis=0)\n",
    "    available_training_data_set += 1\n",
    "\n",
    "\n",
    "X_train, y_train = shuffle(X_train, y_train)\n",
    "n_train *=available_training_data_set\n"
   ]
  },
  {
   "cell_type": "markdown",
   "metadata": {},
   "source": [
    "### Normalization "
   ]
  },
  {
   "cell_type": "code",
   "execution_count": 7,
   "metadata": {},
   "outputs": [],
   "source": [
    "# Normalize  data\n",
    "X_train = (X_train - 128)/128\n",
    "X_valid = (X_valid - 128)/128\n",
    "X_test = (X_test - 128)/128\n"
   ]
  },
  {
   "cell_type": "markdown",
   "metadata": {},
   "source": [
    "### Model Architecture"
   ]
  },
  {
   "cell_type": "code",
   "execution_count": 8,
   "metadata": {},
   "outputs": [],
   "source": [
    "### Define your architecture here.\n",
    "### Feel free to use as many code cells as needed.\n",
    "def LeNet(x, conv_keep_prob=1, fc_keep_prob=1, depth=3, conv1_depth=6, conv2_depth=16, filter_size=5):\n",
    "    # Arguments used for tf.truncated_normal, randomly defines variables for the weights and biases for each layer\n",
    "    mu = 0\n",
    "    sigma = 0.1\n",
    "    width = 32\n",
    "    global conv1, conv2, fc0, fc1, fc2, sess\n",
    "    global conv1_W, conv1_b, conv2_W, conv2_b, fc1_W, fc2_W, fc3_W, fc1_b, fc2_b, fc3_b\n",
    "\n",
    "    # SOLUTION: Layer 1: Convolutional. Input = 32x32x1. Output = 28x28x6.\n",
    "    conv1_W = tf.Variable(tf.truncated_normal(shape=(filter_size, filter_size, depth, conv1_depth), mean=mu, stddev=sigma), name=\"conv1_W\")\n",
    "    conv1_b = tf.Variable(tf.zeros(conv1_depth), name=\"conv1_b\")\n",
    "    conv1 = tf.nn.conv2d(x, conv1_W, strides=[1, 1, 1, 1], padding='VALID') + conv1_b\n",
    "    width = width - filter_size + 1\n",
    "\n",
    "    # SOLUTION: Activation.\n",
    "    conv1 = tf.nn.relu(conv1)\n",
    "    conv1 = tf.nn.dropout(conv1, conv_keep_prob)\n",
    "\n",
    "\n",
    "    # SOLUTION: Pooling. Input = 28x28x6. Output = 14x14x6.\n",
    "    conv1 = tf.nn.max_pool(conv1, ksize=[1, 2, 2, 1], strides=[1, 2, 2, 1], padding='VALID')\n",
    "    width = int(width/2)\n",
    "\n",
    "    # SOLUTION: Layer 2: Convolutional. Output = 10x10x16.\n",
    "    conv2_W = tf.Variable(tf.truncated_normal(shape=(filter_size, filter_size, conv1_depth, conv2_depth), mean=mu, stddev=sigma), name=\"conv2_W\")\n",
    "    conv2_b = tf.Variable(tf.zeros(conv2_depth),  name=\"conv2_b\")\n",
    "    conv2 = tf.nn.conv2d(conv1, conv2_W, strides=[1, 1, 1, 1], padding='VALID') + conv2_b\n",
    "    width = width - filter_size + 1\n",
    "\n",
    "    # SOLUTION: Activation.\n",
    "    conv2 = tf.nn.relu(conv2)\n",
    "    conv2 = tf.nn.dropout(conv2, conv_keep_prob)\n",
    "\n",
    "    # SOLUTION: Pooling. Input = 10x10x16. Output = 5x5x16.\n",
    "    conv2 = tf.nn.max_pool(conv2, ksize=[1, 2, 2, 1], strides=[1, 2, 2, 1], padding='VALID')\n",
    "    width = int(width/2)\n",
    "\n",
    "    # SOLUTION: Flatten. Input = 5x5x16. Output = 400.\n",
    "    fc0 = flatten(conv2)\n",
    "    flatten_length = np.int64(conv2_depth*width*width)\n",
    "    # SOLUTION: Layer 3: Fully Connected. Input = 400. Output = 120.\n",
    "    fc1_output_width = 200\n",
    "    fc1_W = tf.Variable(tf.truncated_normal(shape=(flatten_length, fc1_output_width), mean=mu, stddev=sigma), name=\"fc1_W\")\n",
    "    fc1_b = tf.Variable(tf.zeros(fc1_output_width), name=\"fc1_b\")\n",
    "    fc1 = tf.matmul(fc0, fc1_W) + fc1_b\n",
    "\n",
    "    # SOLUTION: Activation.\n",
    "    fc1 = tf.nn.relu(fc1)\n",
    "    fc1 = tf.nn.dropout(fc1, fc_keep_prob)\n",
    "\n",
    "    # SOLUTION: Layer 4: Fully Connected. Input = 120. Output = 84.\n",
    "    fc2_output_width = 100\n",
    "    fc2_W = tf.Variable(tf.truncated_normal(shape=(fc1_output_width, fc2_output_width), mean=mu, stddev=sigma), name=\"fc2_W\")\n",
    "    fc2_b = tf.Variable(tf.zeros(fc2_output_width), name=\"fc2_b\")\n",
    "    fc2 = tf.matmul(fc1, fc2_W) + fc2_b\n",
    "\n",
    "    # SOLUTION: Activation.\n",
    "    fc2 = tf.nn.relu(fc2)\n",
    "    fc2 = tf.nn.dropout(fc2, fc_keep_prob)\n",
    "\n",
    "    # SOLUTION: Layer 5: Fully Connected. Input = 84. Output = 10.\n",
    "    fc3_output_width = 43\n",
    "    fc3_W = tf.Variable(tf.truncated_normal(shape=(fc2_output_width, fc3_output_width), mean=mu, stddev=sigma), name=\"fc3_W\")\n",
    "    fc3_b = tf.Variable(tf.zeros(fc3_output_width), name=\"fc3_b\")\n",
    "    logits = tf.matmul(fc2, fc3_W) + fc3_b\n",
    "\n",
    "    return logits\n",
    "\n"
   ]
  },
  {
   "cell_type": "markdown",
   "metadata": {},
   "source": [
    "### Labels encoding "
   ]
  },
  {
   "cell_type": "code",
   "execution_count": 9,
   "metadata": {},
   "outputs": [
    {
     "name": "stdout",
     "output_type": "stream",
     "text": [
      "Labels One-Hot Encoded\n"
     ]
    }
   ],
   "source": [
    "encoder = LabelBinarizer()\n",
    "encoder.fit(y_train)\n",
    "y_train = encoder.transform(y_train)\n",
    "y_valid = encoder.transform(y_valid)\n",
    "y_test = encoder.transform(y_test)\n",
    "print('Labels One-Hot Encoded')\n"
   ]
  },
  {
   "cell_type": "markdown",
   "metadata": {},
   "source": [
    "### Train, Validate and Test the Model"
   ]
  },
  {
   "cell_type": "markdown",
   "metadata": {},
   "source": [
    "A validation set can be used to assess how well the model is performing. A low accuracy on the training and validation\n",
    "sets imply underfitting. A high accuracy on the training set but low accuracy on the validation set implies overfitting."
   ]
  },
  {
   "cell_type": "code",
   "execution_count": 10,
   "metadata": {},
   "outputs": [
    {
     "name": "stdout",
     "output_type": "stream",
     "text": [
      "WARNING:tensorflow:From <ipython-input-10-763068ecd1fc>:10: softmax_cross_entropy_with_logits (from tensorflow.python.ops.nn_ops) is deprecated and will be removed in a future version.\n",
      "Instructions for updating:\n",
      "\n",
      "Future major versions of TensorFlow will allow gradients to flow\n",
      "into the labels input on backprop by default.\n",
      "\n",
      "See tf.nn.softmax_cross_entropy_with_logits_v2.\n",
      "\n",
      "Training...\n",
      "EPOCH 1 ...\n",
      "Validation Accuracy = 0.829\n",
      "Training Accuracy = 0.865\n",
      "\n",
      "EPOCH 2 ...\n",
      "Validation Accuracy = 0.893\n",
      "Training Accuracy = 0.933\n",
      "\n",
      "EPOCH 3 ...\n",
      "Validation Accuracy = 0.930\n",
      "Training Accuracy = 0.957\n",
      "\n",
      "EPOCH 4 ...\n",
      "Validation Accuracy = 0.937\n",
      "Training Accuracy = 0.969\n",
      "\n",
      "EPOCH 5 ...\n",
      "Validation Accuracy = 0.940\n",
      "Training Accuracy = 0.972\n",
      "\n",
      "EPOCH 6 ...\n",
      "Validation Accuracy = 0.953\n",
      "Training Accuracy = 0.982\n",
      "\n",
      "EPOCH 7 ...\n",
      "Validation Accuracy = 0.959\n",
      "Training Accuracy = 0.985\n",
      "\n",
      "EPOCH 8 ...\n",
      "Validation Accuracy = 0.956\n",
      "Training Accuracy = 0.988\n",
      "\n",
      "EPOCH 9 ...\n",
      "Validation Accuracy = 0.955\n",
      "Training Accuracy = 0.988\n",
      "\n",
      "EPOCH 10 ...\n",
      "Validation Accuracy = 0.964\n",
      "Training Accuracy = 0.991\n",
      "\n",
      "EPOCH 11 ...\n",
      "Validation Accuracy = 0.965\n",
      "Training Accuracy = 0.991\n",
      "\n",
      "EPOCH 12 ...\n",
      "Validation Accuracy = 0.961\n",
      "Training Accuracy = 0.992\n",
      "\n",
      "EPOCH 13 ...\n",
      "Validation Accuracy = 0.965\n",
      "Training Accuracy = 0.993\n",
      "\n",
      "EPOCH 14 ...\n",
      "Validation Accuracy = 0.968\n",
      "Training Accuracy = 0.988\n",
      "\n",
      "EPOCH 15 ...\n",
      "Validation Accuracy = 0.961\n",
      "Training Accuracy = 0.992\n",
      "\n",
      "EPOCH 16 ...\n",
      "Validation Accuracy = 0.970\n",
      "Training Accuracy = 0.994\n",
      "\n",
      "EPOCH 17 ...\n",
      "Validation Accuracy = 0.966\n",
      "Training Accuracy = 0.994\n",
      "\n",
      "EPOCH 18 ...\n",
      "Validation Accuracy = 0.969\n",
      "Training Accuracy = 0.994\n",
      "\n",
      "EPOCH 19 ...\n",
      "Validation Accuracy = 0.967\n",
      "Training Accuracy = 0.995\n",
      "\n",
      "EPOCH 20 ...\n",
      "Validation Accuracy = 0.970\n",
      "Training Accuracy = 0.996\n",
      "\n",
      "EPOCH 21 ...\n",
      "Validation Accuracy = 0.971\n",
      "Training Accuracy = 0.996\n",
      "\n",
      "EPOCH 22 ...\n",
      "Validation Accuracy = 0.967\n",
      "Training Accuracy = 0.996\n",
      "\n",
      "EPOCH 23 ...\n",
      "Validation Accuracy = 0.966\n",
      "Training Accuracy = 0.995\n",
      "\n",
      "EPOCH 24 ...\n",
      "Validation Accuracy = 0.969\n",
      "Training Accuracy = 0.996\n",
      "\n",
      "EPOCH 25 ...\n",
      "Validation Accuracy = 0.967\n",
      "Training Accuracy = 0.997\n",
      "\n",
      "EPOCH 26 ...\n",
      "Validation Accuracy = 0.966\n",
      "Training Accuracy = 0.996\n",
      "\n",
      "EPOCH 27 ...\n",
      "Validation Accuracy = 0.968\n",
      "Training Accuracy = 0.996\n",
      "\n",
      "EPOCH 28 ...\n",
      "Validation Accuracy = 0.971\n",
      "Training Accuracy = 0.995\n",
      "\n",
      "EPOCH 29 ...\n",
      "Validation Accuracy = 0.972\n",
      "Training Accuracy = 0.997\n",
      "\n",
      "EPOCH 30 ...\n",
      "Validation Accuracy = 0.965\n",
      "Training Accuracy = 0.996\n",
      "\n",
      "EPOCH 31 ...\n",
      "Validation Accuracy = 0.972\n",
      "Training Accuracy = 0.998\n",
      "\n",
      "EPOCH 32 ...\n",
      "Validation Accuracy = 0.968\n",
      "Training Accuracy = 0.997\n",
      "\n",
      "EPOCH 33 ...\n",
      "Validation Accuracy = 0.967\n",
      "Training Accuracy = 0.996\n",
      "\n",
      "EPOCH 34 ...\n",
      "Validation Accuracy = 0.966\n",
      "Training Accuracy = 0.995\n",
      "\n",
      "EPOCH 35 ...\n",
      "Validation Accuracy = 0.969\n",
      "Training Accuracy = 0.996\n",
      "\n",
      "EPOCH 36 ...\n",
      "Validation Accuracy = 0.968\n",
      "Training Accuracy = 0.997\n",
      "\n",
      "EPOCH 37 ...\n",
      "Validation Accuracy = 0.967\n",
      "Training Accuracy = 0.998\n",
      "\n",
      "EPOCH 38 ...\n",
      "Validation Accuracy = 0.974\n",
      "Training Accuracy = 0.997\n",
      "\n",
      "EPOCH 39 ...\n",
      "Validation Accuracy = 0.966\n",
      "Training Accuracy = 0.997\n",
      "\n",
      "EPOCH 40 ...\n",
      "Validation Accuracy = 0.965\n",
      "Training Accuracy = 0.994\n",
      "\n",
      "EPOCH 41 ...\n",
      "Validation Accuracy = 0.964\n",
      "Training Accuracy = 0.997\n",
      "\n",
      "EPOCH 42 ...\n",
      "Validation Accuracy = 0.974\n",
      "Training Accuracy = 0.998\n",
      "\n",
      "EPOCH 43 ...\n",
      "Validation Accuracy = 0.968\n",
      "Training Accuracy = 0.997\n",
      "\n",
      "EPOCH 44 ...\n",
      "Validation Accuracy = 0.972\n",
      "Training Accuracy = 0.997\n",
      "\n",
      "EPOCH 45 ...\n",
      "Validation Accuracy = 0.969\n",
      "Training Accuracy = 0.998\n",
      "\n",
      "EPOCH 46 ...\n",
      "Validation Accuracy = 0.970\n",
      "Training Accuracy = 0.998\n",
      "\n",
      "EPOCH 47 ...\n",
      "Validation Accuracy = 0.971\n",
      "Training Accuracy = 0.998\n",
      "\n",
      "EPOCH 48 ...\n",
      "Validation Accuracy = 0.964\n",
      "Training Accuracy = 0.996\n",
      "\n",
      "EPOCH 49 ...\n",
      "Validation Accuracy = 0.969\n",
      "Training Accuracy = 0.998\n",
      "\n",
      "EPOCH 50 ...\n",
      "Validation Accuracy = 0.976\n",
      "Training Accuracy = 0.998\n",
      "\n"
     ]
    },
    {
     "data": {
      "image/png": "[encoded data removed]",
      "text/plain": [
       "<Figure size 432x288 with 1 Axes>"
      ]
     },
     "metadata": {
      "needs_background": "light"
     },
     "output_type": "display_data"
    },
    {
     "name": "stdout",
     "output_type": "stream",
     "text": [
      "Max accuracy 0.976 at Epoch 50\n",
      "Saving image: 00_out/2019_01_16-15_01_09/validation_accuracy.jpg\n",
      "Saving image: 00_out/2019_01_16-15_01_09/loss.jpg\n",
      "Writing file : 00_out/2019_01_16-15_01_09/configs.json\n",
      "Model saved\n",
      "Testing ...\n",
      "Testing Accuracy = 0.941\n"
     ]
    },
    {
     "data": {
      "image/png": "[encoded data removed]",
      "text/plain": [
       "<Figure size 432x288 with 1 Axes>"
      ]
     },
     "metadata": {
      "needs_background": "light"
     },
     "output_type": "display_data"
    }
   ],
   "source": [
    "### Train your model here.\n",
    "### Calculate and report the accuracy on the training and validation set.\n",
    "### Once a final model architecture is selected, \n",
    "### the accuracy on the test set should be calculated and reported as well.\n",
    "### Feel free to use as many code cells as needed.\n",
    "fc_keep_prob = tf.placeholder(tf.float32)\n",
    "conv_keep_prob = tf.placeholder(tf.float32)\n",
    "\n",
    "logits = feed_forward(x, conv_keep_prob, fc_keep_prob, depth=image_depth, conv1_depth=conv1_depth_val, conv2_depth=conv2_depth_val, filter_size=conv_filter_size)\n",
    "cross_entropy = tf.nn.softmax_cross_entropy_with_logits(labels=y, logits=logits)\n",
    "loss_operation = tf.reduce_mean(cross_entropy)\n",
    "optimizer = tf.train.AdamOptimizer(learning_rate=learning_rate )\n",
    "\n",
    "training_operation = optimizer.minimize(loss_operation)\n",
    "\n",
    "correct_prediction = tf.equal(tf.argmax(logits, 1), tf.argmax(y, 1))\n",
    "accuracy_operation = tf.reduce_mean(tf.cast(correct_prediction, tf.float32))\n",
    "saver = tf.train.Saver()\n",
    "\n",
    "with tf.Session() as sess:\n",
    "    if Evaluate_NW:\n",
    "        com_sess = sess\n",
    "        com_x = x\n",
    "        #outputFeatureMap(image_gray, conv1)\n",
    "        pass\n",
    "    if CONTINUE == True:\n",
    "        saver.restore(sess, './00_out/2019_01_13-13_52_52/LeNet')\n",
    "    else:\n",
    "        sess.run(tf.global_variables_initializer())\n",
    "\n",
    "    num_examples = int(n_train/BATCH_SIZE)*BATCH_SIZE\n",
    "\n",
    "    if TRAIN:\n",
    "        print(\"Training...\")\n",
    "        for i in range(EPOCHS):\n",
    "            #print(type(y_train))\n",
    "            X_train, y_train = shuffle(X_train, y_train)\n",
    "            for offset in range(0, num_examples, BATCH_SIZE):\n",
    "                end = offset + BATCH_SIZE\n",
    "                if end >= n_train:\n",
    "                    end = n_train-1\n",
    "                batch_x, batch_y = X_train[offset:end], y_train[offset:end]\n",
    "\n",
    "                _, l = sess.run([training_operation, loss_operation], feed_dict={x: batch_x, y: batch_y, conv_keep_prob : conv_keep_prob_value, fc_keep_prob : fc_keep_prob_value})\n",
    "            loss_list.append(l)\n",
    "\n",
    "            validation_accuracy = evaluate(X_valid, y_valid)\n",
    "            training_accuracy = evaluate(X_train, y_train)\n",
    "            print(\"EPOCH {} ...\".format(i + 1))\n",
    "            print(\"Validation Accuracy = {:.3f}\".format(validation_accuracy))\n",
    "            print(\"Training Accuracy = {:.3f}\".format(training_accuracy))\n",
    "            acc_list.append(validation_accuracy)\n",
    "            train_acc_list.append(training_accuracy)\n",
    "            print()\n",
    "\n",
    "\n",
    "        sub_folder_name = get_date_time()\n",
    "        fig0 = plt.figure(0)\n",
    "        fig0.clf()\n",
    "        plt.plot(acc_list, label='validation_accuracy')\n",
    "        plt.plot(train_acc_list, label='training_accuracy')\n",
    "        plt.grid(True)\n",
    "        plt.legend()\n",
    "        annot_max(range(len(acc_list)),acc_list)\n",
    "        plt.show()\n",
    "        max_accuracy = max(acc_list)\n",
    "        max_accuracy_epoch = range(len(acc_list))[np.argmax(acc_list)]\n",
    "        print(\"Max accuracy %.3f at Epoch %d\" %(max_accuracy, max_accuracy_epoch))\n",
    "        arr = convert_figure_to_array(fig0)\n",
    "        store_image(arr, \"validation_accuracy\", out_dir + \"/\" + sub_folder_name)\n",
    "\n",
    "        fig0 = plt.figure(0)\n",
    "        fig0.clf()\n",
    "        plt.plot(loss_list, label='loss')\n",
    "        plt.grid(True)\n",
    "        plt.legend(loc=2)\n",
    "        annot_min(range(len(loss_list)),loss_list)\n",
    "\n",
    "        arr = convert_figure_to_array(fig0)\n",
    "        store_image(arr, \"loss\", out_dir + \"/\" + sub_folder_name)\n",
    "\n",
    "        global test_accuracy\n",
    "        test_accuracy = 0\n",
    "\n",
    "        data_list = [\"EPOCHS\", \"BATCH_SIZE\", \"learning_rate\", \"feed_forward.__name__\",\n",
    "                     \"fc_keep_prob_value\", \"conv_keep_prob_value\", \"CONTINUE\", \"image_depth\",\n",
    "                     \"conv1_depth_val\", \"conv2_depth_val\", \"conv_filter_size\",\"test_accuracy\",\n",
    "                     \"max_accuracy\", \"max_accuracy_epoch\", \"clipLimit\",\n",
    "                     \"acc_list\", \"train_acc_list\", \"loss_list\"]\n",
    "        file_name =  out_dir + \"/\" + sub_folder_name + \"/\" + \"configs\"\n",
    "        save_variables(file_name, data_list)\n",
    "\n",
    "        saver.save(sess, \"./\" + out_dir + \"/\" + sub_folder_name + '/' + feed_forward.__name__)\n",
    "        print(\"Model saved\")\n",
    "        if TEST:\n",
    "            print(\"Testing ...\")\n",
    "            test_accuracy = evaluate(X_test, y_test)\n",
    "            print(\"Testing Accuracy = {:.3f}\".format(test_accuracy))\n"
   ]
  },
  {
   "cell_type": "markdown",
   "metadata": {},
   "source": [
    "---\n",
    "\n",
    "## Step 3: Test a Model on New Images\n",
    "\n",
    "To give yourself more insight into how your model is working, download at least five pictures of German traffic signs from the web and use your model to predict the traffic sign type.\n",
    "\n",
    "You may find `signnames.csv` useful as it contains mappings from the class id (integer) to the actual sign name."
   ]
  },
  {
   "cell_type": "markdown",
   "metadata": {},
   "source": [
    "### Load and Output the Images"
   ]
  },
  {
   "cell_type": "code",
   "execution_count": 11,
   "metadata": {},
   "outputs": [
    {
     "name": "stdout",
     "output_type": "stream",
     "text": [
      "INFO:tensorflow:Restoring parameters from ./00_out/2019_01_16-00_22_43/LeNet\n"
     ]
    }
   ],
   "source": [
    "### Load the images and plot them here.\n",
    "### Feel free to use as many code cells as needed.\n",
    "DISPLAY_IMAGES = True\n",
    "BATCH_IMAGES = False\n",
    "tf.reset_default_graph()\n",
    "sess = tf.InteractiveSession()\n",
    "sess.as_default()\n",
    "\n",
    "\n",
    "x = tf.placeholder(tf.float32, (None, 32, 32, image_depth))\n",
    "y = tf.placeholder(tf.int32, (None, 43))\n",
    "fc_keep_prob = tf.placeholder(tf.float32)\n",
    "conv_keep_prob = tf.placeholder(tf.float32)\n",
    "logit= LeNet(x, conv_keep_prob, fc_keep_prob, depth=image_depth, conv1_depth=conv1_depth_val, conv2_depth=conv2_depth_val, filter_size=conv_filter_size)\n",
    "\n",
    "#op = sess.graph.get_operations()\n",
    "#print([m.values() for m in op][1])\n",
    "\n",
    "model_folder = \"2019_01_16-00_22_43\"\n",
    "saver = tf.train.Saver()\n",
    "#saver = tf.train.import_meta_graph('./00_out/'+model_folder+'/LeNet.meta')\n",
    "\n",
    "saver.restore(sess, './00_out/' + model_folder + '/LeNet')\n",
    "\n",
    "if BATCH_IMAGES:\n",
    "    images, labels_n = get_images()\n",
    "else:\n",
    "    images = find_files(\"./01_test_images\", \".png\")\n",
    "    labels_n = [8, 15, 12, 25, 16]\n",
    "\n",
    "encoder = LabelBinarizer()\n",
    "encoder.fit(range(43))\n",
    "labels = encoder.transform(labels_n)\n",
    "\n",
    "\n",
    "img_gray_array = np.ndarray\n",
    "i = -1\n",
    "classification_list = []\n",
    "error_list = []\n",
    "\n"
   ]
  },
  {
   "cell_type": "markdown",
   "metadata": {},
   "source": [
    "### Predict the Sign Type for Each Image"
   ]
  },
  {
   "cell_type": "code",
   "execution_count": 12,
   "metadata": {},
   "outputs": [
    {
     "name": "stdout",
     "output_type": "stream",
     "text": [
      "File: ./01_test_images\\small_120_kmh_limit.png\n"
     ]
    },
    {
     "data": {
      "image/png": "[encoded data removed]",
      "text/plain": [
       "<Figure size 432x288 with 3 Axes>"
      ]
     },
     "metadata": {
      "needs_background": "light"
     },
     "output_type": "display_data"
    },
    {
     "name": "stdout",
     "output_type": "stream",
     "text": [
      "********************\n",
      "classified as: 8\n",
      "Should  be   : 8\n",
      "Cross entropy : 0.0001295721\n",
      "--------------------\n",
      "File: ./01_test_images\\small_no_vehicles.png\n"
     ]
    },
    {
     "data": {
      "image/png": "[encoded data removed]",
      "text/plain": [
       "<Figure size 432x288 with 3 Axes>"
      ]
     },
     "metadata": {
      "needs_background": "light"
     },
     "output_type": "display_data"
    },
    {
     "name": "stdout",
     "output_type": "stream",
     "text": [
      "********************\n",
      "classified as: 15\n",
      "Should  be   : 15\n",
      "Cross entropy : 0.018852573\n",
      "--------------------\n",
      "File: ./01_test_images\\small_priority_road.png\n"
     ]
    },
    {
     "data": {
      "image/png": "[encoded data removed]",
      "text/plain": [
       "<Figure size 432x288 with 3 Axes>"
      ]
     },
     "metadata": {
      "needs_background": "light"
     },
     "output_type": "display_data"
    },
    {
     "name": "stdout",
     "output_type": "stream",
     "text": [
      "********************\n",
      "classified as: 12\n",
      "Should  be   : 12\n",
      "Cross entropy : 5.9604467e-06\n",
      "--------------------\n",
      "File: ./01_test_images\\small_road_works.png\n"
     ]
    },
    {
     "data": {
      "image/png": "[encoded data removed]",
      "text/plain": [
       "<Figure size 432x288 with 3 Axes>"
      ]
     },
     "metadata": {
      "needs_background": "light"
     },
     "output_type": "display_data"
    },
    {
     "name": "stdout",
     "output_type": "stream",
     "text": [
      "********************\n",
      "classified as: 25\n",
      "Should  be   : 25\n",
      "Cross entropy : 1.1920928e-07\n",
      "--------------------\n",
      "File: ./01_test_images\\small_vehicles_over_3.5_tonnes_prohibited.png\n"
     ]
    },
    {
     "data": {
      "image/png": "[encoded data removed]",
      "text/plain": [
       "<Figure size 432x288 with 3 Axes>"
      ]
     },
     "metadata": {
      "needs_background": "light"
     },
     "output_type": "display_data"
    },
    {
     "name": "stdout",
     "output_type": "stream",
     "text": [
      "********************\n",
      "classified as: 16\n",
      "Should  be   : 16\n",
      "Cross entropy : 0.0010961245\n",
      "--------------------\n",
      "Classifications  : [8, 15, 12, 25, 16]\n",
      "Labels           : [8, 15, 12, 25, 16]\n",
      "COST             : [0.0001295721, 0.018852573, 5.9604467e-06, 1.1920928e-07, 0.0010961245]\n"
     ]
    }
   ],
   "source": [
    "### Run the predictions here and use the model to output the prediction for each image.\n",
    "### Make sure to pre-process the images with the same pre-processing pipeline used earlier.\n",
    "### Feel free to use as many code cells as needed.\n",
    "for image_path in images:\n",
    "\n",
    "    i+=1\n",
    "    if BATCH_IMAGES:\n",
    "        img_rgb = image_path\n",
    "    else:\n",
    "        print(\"File: \" + image_path)\n",
    "        img_rgb = cv2.imread(image_path)\n",
    "    #print(np.max(img_rgb), np.min(img_rgb))\n",
    "    img_gray = np.sum(img_rgb/3, axis=2, keepdims=True)\n",
    "    #img_gray = cv2.equalizeHist(img_gray.astype(np.uint8))\n",
    "    # create a CLAHE object (Arguments are optional).\n",
    "    clahe = cv2.createCLAHE(tileGridSize=(2, 2), clipLimit=200.0)\n",
    "\n",
    "    img_gray = cv2.resize(img_gray, (32, 32), interpolation=cv2.INTER_AREA)\n",
    "    X_EqualizeHist = cv2.equalizeHist(img_gray.astype(np.uint8))\n",
    "    X_EqualizeHist_adaptive = clahe.apply(img_gray.astype(np.uint16))\n",
    "\n",
    "    img_gray = np.reshape(img_gray, (1, 32, 32, 1))\n",
    "\n",
    "    #print(X_EqualizeHist.shape)\n",
    "\n",
    "    img = (img_gray - 128)/128\n",
    "    if DISPLAY_IMAGES:\n",
    "        #plt.imshow(img[0,:, :,0], \"gray\")\n",
    "        #plt.figure(figsize=(1,3))\n",
    "        _ ,ax = plt.subplots(1, 3)\n",
    "        #ax[0].imshow(cv2.cvtColor(img_rgb, cv2.COLOR_BGR2RGB))\n",
    "        #ax[0].set_title(\"rgb_image\", fontsize=20)\n",
    "        ax[1].imshow(img_gray[0,:, :,0], \"gray\")\n",
    "        ax[1].set_title(\"gray\", fontsize=10)\n",
    "        ax[2].imshow(X_EqualizeHist, \"gray\")\n",
    "        ax[2].set_title(\"X_EqualizeHist\", fontsize=10)\n",
    "        ax[0].imshow(X_EqualizeHist_adaptive, \"gray\")\n",
    "        ax[0].set_title(\"X_EqualizeHist_adaptive\", fontsize=10)\n",
    "        plt.show()\n",
    "    #img_gray_array[0] = img_gray\n",
    "    #saver.restore(sess, './00_out/2019_01_13-13_52_52/LeNet')\n",
    "\n",
    "    #sess.run(LeNet(x, conv_keep_prob, fc_keep_prob, depth=image_depth, conv1_depth=conv1_depth_val, conv2_depth=conv2_depth_val, filter_size=conv_filter_size),\n",
    "             #feed_dict={x:img, fc_keep_prob:fc_keep_prob_value, conv_keep_prob:conv_keep_prob_value})\n",
    "    logit_val = sess.run(logit, feed_dict={x:img, fc_keep_prob:1, conv_keep_prob:1})\n",
    "    class_err = sess.run(tf.nn.softmax_cross_entropy_with_logits(logits=logit_val, labels=labels[i]))\n",
    "    class_expectation = sess.run(tf.nn.softmax(logit_val))\n",
    "    classification = np.argmax(np.absolute(class_expectation))\n",
    "    if not BATCH_IMAGES:\n",
    "        print(\"*\"*20)\n",
    "        print(\"classified as: %d\" %classification)\n",
    "        print(\"Should  be   : %d\" %labels_n[i])\n",
    "        print(\"Cross entropy : \" + str(class_err[0]) )\n",
    "        print(\"-\"*20)\n",
    "\n",
    "    classification_list.append(classification)\n",
    "    error_list.append(class_err[0])\n",
    "    #outputFeatureMap(img_gray, conv1)\n",
    "    #print(logit_val)\n",
    "\n",
    "#overall_error = sess.run(tf.nn.sigmoid_cross_entropy_with_logits(logits=logit_val, labels=labels))\n",
    "\n",
    "print(\"Classifications  : \" + str(classification_list))\n",
    "print(\"Labels           : \" + str(labels_n))\n",
    "print(\"COST             : \" + str(error_list))\n"
   ]
  },
  {
   "cell_type": "markdown",
   "metadata": {},
   "source": [
    "### Analyze Performance"
   ]
  },
  {
   "cell_type": "code",
   "execution_count": 13,
   "metadata": {},
   "outputs": [],
   "source": [
    "### Calculate the accuracy for these 5 new images. \n",
    "### For example, if the model predicted 1 out of 5 signs correctly, it's 20% accurate on these new images.\n",
    "\n",
    "#Based on the above classification ... the accuracy in such case is 100% "
   ]
  },
  {
   "cell_type": "markdown",
   "metadata": {},
   "source": [
    "### Output Top 5 Softmax Probabilities For Each Image Found on the Web"
   ]
  },
  {
   "cell_type": "markdown",
   "metadata": {},
   "source": [
    "For each of the new images, print out the model's softmax probabilities to show the **certainty** of the model's predictions (limit the output to the top 5 probabilities for each image). [`tf.nn.top_k`](https://www.tensorflow.org/versions/r0.12/api_docs/python/nn.html#top_k) could prove helpful here. \n",
    "\n",
    "The example below demonstrates how tf.nn.top_k can be used to find the top k predictions for each image.\n",
    "\n",
    "`tf.nn.top_k` will return the values and indices (class ids) of the top k predictions. So if k=3, for each sign, it'll return the 3 largest probabilities (out of a possible 43) and the correspoding class ids.\n",
    "\n",
    "Take this numpy array as an example. The values in the array represent predictions. The array contains softmax probabilities for five candidate images with six possible classes. `tf.nn.top_k` is used to choose the three classes with the highest probability:\n",
    "\n",
    "```\n",
    "# (5, 6) array\n",
    "a = np.array([[ 0.24879643,  0.07032244,  0.12641572,  0.34763842,  0.07893497,\n",
    "         0.12789202],\n",
    "       [ 0.28086119,  0.27569815,  0.08594638,  0.0178669 ,  0.18063401,\n",
    "         0.15899337],\n",
    "       [ 0.26076848,  0.23664738,  0.08020603,  0.07001922,  0.1134371 ,\n",
    "         0.23892179],\n",
    "       [ 0.11943333,  0.29198961,  0.02605103,  0.26234032,  0.1351348 ,\n",
    "         0.16505091],\n",
    "       [ 0.09561176,  0.34396535,  0.0643941 ,  0.16240774,  0.24206137,\n",
    "         0.09155967]])\n",
    "```\n",
    "\n",
    "Running it through `sess.run(tf.nn.top_k(tf.constant(a), k=3))` produces:\n",
    "\n",
    "```\n",
    "TopKV2(values=array([[ 0.34763842,  0.24879643,  0.12789202],\n",
    "       [ 0.28086119,  0.27569815,  0.18063401],\n",
    "       [ 0.26076848,  0.23892179,  0.23664738],\n",
    "       [ 0.29198961,  0.26234032,  0.16505091],\n",
    "       [ 0.34396535,  0.24206137,  0.16240774]]), indices=array([[3, 0, 5],\n",
    "       [0, 1, 4],\n",
    "       [0, 5, 1],\n",
    "       [1, 3, 5],\n",
    "       [1, 4, 3]], dtype=int32))\n",
    "```\n",
    "\n",
    "Looking just at the first row we get `[ 0.34763842,  0.24879643,  0.12789202]`, you can confirm these are the 3 largest probabilities in `a`. You'll also notice `[3, 0, 5]` are the corresponding indices."
   ]
  },
  {
   "cell_type": "code",
   "execution_count": 14,
   "metadata": {},
   "outputs": [
    {
     "name": "stdout",
     "output_type": "stream",
     "text": [
      "File: ./01_test_images\\small_120_kmh_limit.png\n",
      "Probabilites :[9.9987042e-01 5.8359419e-05 5.2568150e-05 1.6261760e-05 1.4942547e-06]\n",
      "Classes      :[8 0 4 1 2]\n",
      "File: ./01_test_images\\small_no_vehicles.png\n",
      "Probabilites :[0.981324   0.0059751  0.00367469 0.00292038 0.0013884 ]\n",
      "Classes      :[15 12 32  3 38]\n",
      "File: ./01_test_images\\small_priority_road.png\n",
      "Probabilites :[9.9999404e-01 4.7403410e-06 4.2218414e-07 1.9793488e-07 1.5442670e-07]\n",
      "Classes      :[12 15 13 40  8]\n",
      "File: ./01_test_images\\small_road_works.png\n",
      "Probabilites :[9.99999881e-01 1.03702504e-07 3.71288493e-08 2.07157118e-08\n",
      " 1.73645756e-08]\n",
      "Classes      :[25 20 29 38 22]\n",
      "File: ./01_test_images\\small_vehicles_over_3.5_tonnes_prohibited.png\n",
      "Probabilites :[9.9890447e-01 1.0834699e-03 9.2001310e-06 1.7229144e-06 4.6244907e-07]\n",
      "Classes      :[16 40  9 12 42]\n"
     ]
    }
   ],
   "source": [
    "### Print out the top five softmax probabilities for the predictions on the German traffic sign images found on the web. \n",
    "### Feel free to use as many code cells as needed.\n",
    "for image_path in images:\n",
    "\n",
    "    i+=1\n",
    "    if BATCH_IMAGES:\n",
    "        img_rgb = image_path\n",
    "    else:\n",
    "        print(\"File: \" + image_path)\n",
    "        img_rgb = cv2.imread(image_path)\n",
    "    #print(np.max(img_rgb), np.min(img_rgb))\n",
    "    img_gray = np.sum(img_rgb/3, axis=2, keepdims=True)\n",
    "    #img_gray = cv2.equalizeHist(img_gray.astype(np.uint8))\n",
    "    # create a CLAHE object (Arguments are optional).\n",
    "    #clahe = cv2.createCLAHE(tileGridSize=(2, 2), clipLimit=200.0)\n",
    "\n",
    "    img_gray = cv2.resize(img_gray, (32, 32), interpolation=cv2.INTER_AREA)\n",
    "    #X_EqualizeHist = cv2.equalizeHist(img_gray.astype(np.uint8))\n",
    "    #X_EqualizeHist_adaptive = clahe.apply(img_gray.astype(np.uint16))\n",
    "\n",
    "    img_gray = np.reshape(img_gray, (1, 32, 32, 1))\n",
    "\n",
    "    #print(X_EqualizeHist.shape)\n",
    "\n",
    "    img = (img_gray - 128)/128\n",
    "\n",
    "    logit_val = sess.run(logit, feed_dict={x:img, fc_keep_prob:1, conv_keep_prob:1})\n",
    "    \n",
    "    Soft_MAX = sess.run(tf.nn.softmax(logit_val))\n",
    "\n",
    "    Highest5 = sess.run(tf.nn.top_k(tf.constant(Soft_MAX), k=5))\n",
    "    #print(\"Highest 5 probabilties ... \")\n",
    "    print(\"Probabilites :\" + str(Highest5[0][0]))\n",
    "    print(\"Classes      :\" + str(Highest5[1][0]))\n",
    "\n",
    "    "
   ]
  },
  {
   "cell_type": "markdown",
   "metadata": {},
   "source": [
    "### Project Writeup\n",
    "\n",
    "Once you have completed the code implementation, document your results in a project writeup using this [template](https://github.com/udacity/CarND-Traffic-Sign-Classifier-Project/blob/master/writeup_template.md) as a guide. The writeup can be in a markdown or pdf file. "
   ]
  },
  {
   "cell_type": "markdown",
   "metadata": {},
   "source": [
    "> **Note**: Once you have completed all of the code implementations and successfully answered each question above, you may finalize your work by exporting the iPython Notebook as an HTML document. You can do this by using the menu above and navigating to  \\n\",\n",
    "    \"**File -> Download as -> HTML (.html)**. Include the finished document along with this notebook as your submission."
   ]
  },
  {
   "cell_type": "markdown",
   "metadata": {},
   "source": [
    "---\n",
    "\n",
    "## Step 4 (Optional): Visualize the Neural Network's State with Test Images\n",
    "\n",
    " This Section is not required to complete but acts as an additional excersise for understaning the output of a neural network's weights. While neural networks can be a great learning device they are often referred to as a black box. We can understand what the weights of a neural network look like better by plotting their feature maps. After successfully training your neural network you can see what it's feature maps look like by plotting the output of the network's weight layers in response to a test stimuli image. From these plotted feature maps, it's possible to see what characteristics of an image the network finds interesting. For a sign, maybe the inner network feature maps react with high activation to the sign's boundary outline or to the contrast in the sign's painted symbol.\n",
    "\n",
    " Provided for you below is the function code that allows you to get the visualization output of any tensorflow weight layer you want. The inputs to the function should be a stimuli image, one used during training or a new one you provided, and then the tensorflow variable name that represents the layer's state during the training process, for instance if you wanted to see what the [LeNet lab's](https://classroom.udacity.com/nanodegrees/nd013/parts/fbf77062-5703-404e-b60c-95b78b2f3f9e/modules/6df7ae49-c61c-4bb2-a23e-6527e69209ec/lessons/601ae704-1035-4287-8b11-e2c2716217ad/concepts/d4aca031-508f-4e0b-b493-e7b706120f81) feature maps looked like for it's second convolutional layer you could enter conv2 as the tf_activation variable.\n",
    "\n",
    "For an example of what feature map outputs look like, check out NVIDIA's results in their paper [End-to-End Deep Learning for Self-Driving Cars](https://devblogs.nvidia.com/parallelforall/deep-learning-self-driving-cars/) in the section Visualization of internal CNN State. NVIDIA was able to show that their network's inner weights had high activations to road boundary lines by comparing feature maps from an image with a clear path to one without. Try experimenting with a similar test to show that your trained network's weights are looking for interesting features, whether it's looking at differences in feature maps from images with or without a sign, or even what feature maps look like in a trained network vs a completely untrained one on the same sign image.\n",
    "\n",
    "<figure>\n",
    " <img src=\"visualize_cnn.png\" width=\"380\" alt=\"Combined Image\" />\n",
    " <figcaption>\n",
    " <p></p> \n",
    " <p style=\"text-align: center;\"> Your output should look something like this (above)</p> \n",
    " </figcaption>\n",
    "</figure>\n",
    " <p></p> \n"
   ]
  },
  {
   "cell_type": "code",
   "execution_count": 15,
   "metadata": {},
   "outputs": [
    {
     "name": "stdout",
     "output_type": "stream",
     "text": [
      "File: ./01_test_images\\small_120_kmh_limit.png\n"
     ]
    },
    {
     "data": {
      "image/png": "[encoded data removed]",
      "text/plain": [
       "<Figure size 1080x1080 with 6 Axes>"
      ]
     },
     "metadata": {
      "needs_background": "light"
     },
     "output_type": "display_data"
    },
    {
     "name": "stdout",
     "output_type": "stream",
     "text": [
      "File: ./01_test_images\\small_no_vehicles.png\n"
     ]
    },
    {
     "data": {
      "image/png": "[encoded data removed]",
      "text/plain": [
       "<Figure size 1080x1080 with 6 Axes>"
      ]
     },
     "metadata": {
      "needs_background": "light"
     },
     "output_type": "display_data"
    },
    {
     "name": "stdout",
     "output_type": "stream",
     "text": [
      "File: ./01_test_images\\small_priority_road.png\n"
     ]
    },
    {
     "data": {
      "image/png": "[encoded data removed]",
      "text/plain": [
       "<Figure size 1080x1080 with 6 Axes>"
      ]
     },
     "metadata": {
      "needs_background": "light"
     },
     "output_type": "display_data"
    },
    {
     "name": "stdout",
     "output_type": "stream",
     "text": [
      "File: ./01_test_images\\small_road_works.png\n"
     ]
    },
    {
     "data": {
      "image/png": "[encoded data removed]",
      "text/plain": [
       "<Figure size 1080x1080 with 6 Axes>"
      ]
     },
     "metadata": {
      "needs_background": "light"
     },
     "output_type": "display_data"
    },
    {
     "name": "stdout",
     "output_type": "stream",
     "text": [
      "File: ./01_test_images\\small_vehicles_over_3.5_tonnes_prohibited.png\n"
     ]
    },
    {
     "data": {
      "image/png": "[encoded data removed]",
      "text/plain": [
       "<Figure size 1080x1080 with 6 Axes>"
      ]
     },
     "metadata": {
      "needs_background": "light"
     },
     "output_type": "display_data"
    }
   ],
   "source": [
    "### Visualize your network's feature maps here.\n",
    "### Feel free to use as many code cells as needed.\n",
    "\n",
    "# image_input: the test image being fed into the network to produce the feature maps\n",
    "# tf_activation: should be a tf variable name used during your training procedure that represents the calculated state of a specific weight layer\n",
    "# activation_min/max: can be used to view the activation contrast in more detail, by default matplot sets min and max to the actual min and max values of the output\n",
    "# plt_num: used to plot out multiple different weight feature map sets on the same block, just extend the plt number for each new feature map entry\n",
    "\n",
    "def outputFeatureMap(image_input, tf_activation, activation_min=-1, activation_max=-1, plt_num=1):\n",
    "    # Here make sure to preprocess your image_input in a way your network expects\n",
    "    # with size, normalization, ect if needed\n",
    "    # image_input =\n",
    "    # Note: x should be the same name as your network's tensorflow data placeholder variable\n",
    "    # If you get an error tf_activation is not defined it maybe having trouble accessing the variable from inside a function\n",
    "    global sess, x\n",
    "    activation = tf_activation.eval(session=sess, feed_dict={x: image_input, fc_keep_prob: fc_keep_prob_value, conv_keep_prob: conv_keep_prob_value})\n",
    "    featuremaps = activation.shape[3]\n",
    "    plt.figure(plt_num, figsize=(15, 15))\n",
    "    for featuremap in range(featuremaps):\n",
    "        plt.subplot(6, 8, featuremap + 1)  # sets the number of feature maps to show on each row and column\n",
    "        plt.title('FeatureMap ' + str(featuremap))  # displays the feature map number\n",
    "        if activation_min != -1 & activation_max != -1:\n",
    "            plt.imshow(activation[0, :, :, featuremap], interpolation=\"nearest\", vmin=activation_min,\n",
    "                       vmax=activation_max, cmap=\"gray\")\n",
    "        elif activation_max != -1:\n",
    "            plt.imshow(activation[0, :, :, featuremap], interpolation=\"nearest\", vmax=activation_max, cmap=\"gray\")\n",
    "        elif activation_min != -1:\n",
    "            plt.imshow(activation[0, :, :, featuremap], interpolation=\"nearest\", vmin=activation_min, cmap=\"gray\")\n",
    "        else:\n",
    "            plt.imshow(activation[0, :, :, featuremap], interpolation=\"nearest\", cmap=\"gray\")\n",
    "    if DISPLAY_IMAGES:\n",
    "        #pass\n",
    "        plt.show()\n",
    "            \n",
    "for image_path in images:\n",
    "\n",
    "    i+=1\n",
    "    if BATCH_IMAGES:\n",
    "        img_rgb = image_path\n",
    "    else:\n",
    "        print(\"File: \" + image_path)\n",
    "        img_rgb = cv2.imread(image_path)\n",
    "    #print(np.max(img_rgb), np.min(img_rgb))\n",
    "    img_gray = np.sum(img_rgb/3, axis=2, keepdims=True)\n",
    "    #img_gray = cv2.equalizeHist(img_gray.astype(np.uint8))\n",
    "    # create a CLAHE object (Arguments are optional).\n",
    "    #clahe = cv2.createCLAHE(tileGridSize=(2, 2), clipLimit=200.0)\n",
    "\n",
    "    img_gray = cv2.resize(img_gray, (32, 32), interpolation=cv2.INTER_AREA)\n",
    "    #X_EqualizeHist = cv2.equalizeHist(img_gray.astype(np.uint8))\n",
    "    #X_EqualizeHist_adaptive = clahe.apply(img_gray.astype(np.uint16))\n",
    "\n",
    "    img_gray = np.reshape(img_gray, (1, 32, 32, 1))\n",
    "\n",
    "    #print(X_EqualizeHist.shape)\n",
    "\n",
    "    img = (img_gray - 128)/128\n",
    "\n",
    "    outputFeatureMap(img, conv1)\n"
   ]
  },
  {
   "cell_type": "code",
   "execution_count": null,
   "metadata": {},
   "outputs": [],
   "source": []
  }
 ],
 "metadata": {
  "anaconda-cloud": {},
  "kernelspec": {
   "display_name": "Python 3",
   "language": "python",
   "name": "python3"
  },
  "language_info": {
   "codemirror_mode": {
    "name": "ipython",
    "version": 3
   },
   "file_extension": ".py",
   "mimetype": "text/x-python",
   "name": "python",
   "nbconvert_exporter": "python",
   "pygments_lexer": "ipython3",
   "version": "3.6.3"
  }
 },
 "nbformat": 4,
 "nbformat_minor": 1
}
